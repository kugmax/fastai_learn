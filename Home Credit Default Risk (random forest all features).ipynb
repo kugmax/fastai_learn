{
 "cells": [
  {
   "cell_type": "code",
   "execution_count": 1,
   "metadata": {},
   "outputs": [],
   "source": [
    "%matplotlib inline\n",
    "%reload_ext autoreload\n",
    "%autoreload 2"
   ]
  },
  {
   "cell_type": "code",
   "execution_count": 2,
   "metadata": {},
   "outputs": [
    {
     "name": "stderr",
     "output_type": "stream",
     "text": [
      "/home/max/anaconda3/envs/fastai-cpu/lib/python3.6/importlib/_bootstrap.py:219: RuntimeWarning: numpy.dtype size changed, may indicate binary incompatibility. Expected 96, got 88\n",
      "  return f(*args, **kwds)\n",
      "/home/max/anaconda3/envs/fastai-cpu/lib/python3.6/site-packages/sklearn/ensemble/weight_boosting.py:29: DeprecationWarning: numpy.core.umath_tests is an internal NumPy module and should not be imported. It will be removed in a future NumPy release.\n",
      "  from numpy.core.umath_tests import inner1d\n"
     ]
    }
   ],
   "source": [
    "import gc\n",
    "import sys\n",
    "sys.path.append('../')\n",
    "\n",
    "from fastai.structured import *\n",
    "from fastai.column_data import *\n",
    "np.set_printoptions(threshold=50, edgeitems=20)\n",
    "from IPython.display import HTML, display\n",
    "from sklearn import metrics\n",
    "import traceback \n",
    "from sklearn.ensemble import RandomForestRegressor, RandomForestClassifier\n",
    "\n",
    "import featuretools as ft\n",
    "\n",
    "MERED = \"merged\"\n",
    "PATH = \"../../../data/home-credit-default-risk/\"\n",
    "#PATH = \"../../data/home-credit-default-risk/\""
   ]
  },
  {
   "cell_type": "code",
   "execution_count": 6,
   "metadata": {},
   "outputs": [
    {
     "name": "stdout",
     "output_type": "stream",
     "text": [
      "application_test.csv                \u001b[0m\u001b[01;34mmerged\u001b[0m/\r\n",
      "application_train.csv               \u001b[01;34mmodels\u001b[0m/\r\n",
      "bureau_balance.csv                  POS_CASH_balance.csv\r\n",
      "bureau.csv                          previous_application.csv\r\n",
      "credit_card_balance.csv             sample_submission.csv\r\n",
      "HomeCredit_columns_description.csv  \u001b[01;34mtmp\u001b[0m/\r\n",
      "installments_payments.csv\r\n"
     ]
    }
   ],
   "source": [
    "ls {PATH}"
   ]
  },
  {
   "cell_type": "code",
   "execution_count": 19,
   "metadata": {},
   "outputs": [],
   "source": [
    "?pd.read_csv"
   ]
  },
  {
   "cell_type": "code",
   "execution_count": 3,
   "metadata": {},
   "outputs": [],
   "source": [
    "file_names = ['application_train']\n",
    "tables = [pd.read_csv(f'{PATH}{file_name}.csv',low_memory=False, nrows=10000) for file_name in file_names]\n",
    "train = tables[0]"
   ]
  },
  {
   "cell_type": "code",
   "execution_count": 4,
   "metadata": {},
   "outputs": [],
   "source": [
    "file_names = ['bureau']\n",
    "tables = [pd.read_csv(f'{PATH}{file_name}.csv',low_memory=False) for file_name in file_names]\n",
    "bureau = tables[0]"
   ]
  },
  {
   "cell_type": "code",
   "execution_count": 5,
   "metadata": {},
   "outputs": [],
   "source": [
    "bureau = bureau[bureau.SK_ID_CURR.isin(train.SK_ID_CURR)]"
   ]
  },
  {
   "cell_type": "code",
   "execution_count": 6,
   "metadata": {},
   "outputs": [],
   "source": [
    "file_names = ['bureau_balance']\n",
    "tables = [pd.read_csv(f'{PATH}{file_name}.csv',low_memory=False) for file_name in file_names]\n",
    "bureau_balance = tables[0][tables[0].SK_ID_BUREAU.isin(bureau.SK_ID_BUREAU)]"
   ]
  },
  {
   "cell_type": "code",
   "execution_count": 7,
   "metadata": {},
   "outputs": [
    {
     "data": {
      "text/plain": [
       "(10000, 46974, 474218)"
      ]
     },
     "execution_count": 7,
     "metadata": {},
     "output_type": "execute_result"
    }
   ],
   "source": [
    "len(train), len(bureau), len(bureau_balance)"
   ]
  },
  {
   "cell_type": "code",
   "execution_count": 14,
   "metadata": {},
   "outputs": [
    {
     "ename": "ValueError",
     "evalue": "not enough values to unpack (expected 3, got 2)",
     "output_type": "error",
     "traceback": [
      "\u001b[0;31m---------------------------------------------------------------------------\u001b[0m",
      "\u001b[0;31mValueError\u001b[0m                                Traceback (most recent call last)",
      "\u001b[0;32m<ipython-input-14-c3ee4e471364>\u001b[0m in \u001b[0;36m<module>\u001b[0;34m()\u001b[0m\n\u001b[0;32m----> 1\u001b[0;31m \u001b[0mtrain\u001b[0m\u001b[0;34m,\u001b[0m \u001b[0mbureau_balance\u001b[0m\u001b[0;34m,\u001b[0m \u001b[0mbureau\u001b[0m \u001b[0;34m=\u001b[0m \u001b[0mtables\u001b[0m\u001b[0;34m\u001b[0m\u001b[0m\n\u001b[0m\u001b[1;32m      2\u001b[0m \u001b[0;31m#bureau_balance = tables[0]\u001b[0m\u001b[0;34m\u001b[0m\u001b[0;34m\u001b[0m\u001b[0m\n",
      "\u001b[0;31mValueError\u001b[0m: not enough values to unpack (expected 3, got 2)"
     ]
    }
   ],
   "source": [
    "bureau_balance, bureau = tables"
   ]
  },
  {
   "cell_type": "code",
   "execution_count": 41,
   "metadata": {},
   "outputs": [
    {
     "data": {
      "text/html": [
       "<div>\n",
       "<style scoped>\n",
       "    .dataframe tbody tr th:only-of-type {\n",
       "        vertical-align: middle;\n",
       "    }\n",
       "\n",
       "    .dataframe tbody tr th {\n",
       "        vertical-align: top;\n",
       "    }\n",
       "\n",
       "    .dataframe thead th {\n",
       "        text-align: right;\n",
       "    }\n",
       "</style>\n",
       "<table border=\"1\" class=\"dataframe\">\n",
       "  <thead>\n",
       "    <tr style=\"text-align: right;\">\n",
       "      <th></th>\n",
       "      <th>index</th>\n",
       "      <th>SK_ID_BUREAU</th>\n",
       "      <th>MONTHS_BALANCE</th>\n",
       "      <th>STATUS</th>\n",
       "    </tr>\n",
       "  </thead>\n",
       "  <tbody>\n",
       "    <tr>\n",
       "      <th>0</th>\n",
       "      <td>81446</td>\n",
       "      <td>5228926</td>\n",
       "      <td>-47</td>\n",
       "      <td>C</td>\n",
       "    </tr>\n",
       "    <tr>\n",
       "      <th>1</th>\n",
       "      <td>81447</td>\n",
       "      <td>5228926</td>\n",
       "      <td>-48</td>\n",
       "      <td>C</td>\n",
       "    </tr>\n",
       "    <tr>\n",
       "      <th>2</th>\n",
       "      <td>81448</td>\n",
       "      <td>5228926</td>\n",
       "      <td>-49</td>\n",
       "      <td>C</td>\n",
       "    </tr>\n",
       "    <tr>\n",
       "      <th>3</th>\n",
       "      <td>81449</td>\n",
       "      <td>5228926</td>\n",
       "      <td>-50</td>\n",
       "      <td>C</td>\n",
       "    </tr>\n",
       "    <tr>\n",
       "      <th>4</th>\n",
       "      <td>81450</td>\n",
       "      <td>5228926</td>\n",
       "      <td>-51</td>\n",
       "      <td>C</td>\n",
       "    </tr>\n",
       "  </tbody>\n",
       "</table>\n",
       "</div>"
      ],
      "text/plain": [
       "   index  SK_ID_BUREAU  MONTHS_BALANCE STATUS\n",
       "0  81446       5228926             -47      C\n",
       "1  81447       5228926             -48      C\n",
       "2  81448       5228926             -49      C\n",
       "3  81449       5228926             -50      C\n",
       "4  81450       5228926             -51      C"
      ]
     },
     "execution_count": 41,
     "metadata": {},
     "output_type": "execute_result"
    }
   ],
   "source": [
    "bureau_balance.head()"
   ]
  },
  {
   "cell_type": "code",
   "execution_count": 16,
   "metadata": {},
   "outputs": [
    {
     "data": {
      "text/html": [
       "<div>\n",
       "<style scoped>\n",
       "    .dataframe tbody tr th:only-of-type {\n",
       "        vertical-align: middle;\n",
       "    }\n",
       "\n",
       "    .dataframe tbody tr th {\n",
       "        vertical-align: top;\n",
       "    }\n",
       "\n",
       "    .dataframe thead th {\n",
       "        text-align: right;\n",
       "    }\n",
       "</style>\n",
       "<table border=\"1\" class=\"dataframe\">\n",
       "  <thead>\n",
       "    <tr style=\"text-align: right;\">\n",
       "      <th></th>\n",
       "      <th>SK_ID_CURR</th>\n",
       "      <th>SK_ID_BUREAU</th>\n",
       "      <th>CREDIT_ACTIVE</th>\n",
       "      <th>CREDIT_CURRENCY</th>\n",
       "      <th>DAYS_CREDIT</th>\n",
       "      <th>CREDIT_DAY_OVERDUE</th>\n",
       "      <th>DAYS_CREDIT_ENDDATE</th>\n",
       "      <th>DAYS_ENDDATE_FACT</th>\n",
       "      <th>AMT_CREDIT_MAX_OVERDUE</th>\n",
       "      <th>CNT_CREDIT_PROLONG</th>\n",
       "      <th>AMT_CREDIT_SUM</th>\n",
       "      <th>AMT_CREDIT_SUM_DEBT</th>\n",
       "      <th>AMT_CREDIT_SUM_LIMIT</th>\n",
       "      <th>AMT_CREDIT_SUM_OVERDUE</th>\n",
       "      <th>CREDIT_TYPE</th>\n",
       "      <th>DAYS_CREDIT_UPDATE</th>\n",
       "      <th>AMT_ANNUITY</th>\n",
       "    </tr>\n",
       "  </thead>\n",
       "  <tbody>\n",
       "    <tr>\n",
       "      <th>0</th>\n",
       "      <td>215354</td>\n",
       "      <td>5714462</td>\n",
       "      <td>Closed</td>\n",
       "      <td>currency 1</td>\n",
       "      <td>-497</td>\n",
       "      <td>0</td>\n",
       "      <td>-153.0</td>\n",
       "      <td>-153.0</td>\n",
       "      <td>NaN</td>\n",
       "      <td>0</td>\n",
       "      <td>91323.0</td>\n",
       "      <td>0.0</td>\n",
       "      <td>NaN</td>\n",
       "      <td>0.0</td>\n",
       "      <td>Consumer credit</td>\n",
       "      <td>-131</td>\n",
       "      <td>NaN</td>\n",
       "    </tr>\n",
       "    <tr>\n",
       "      <th>1</th>\n",
       "      <td>215354</td>\n",
       "      <td>5714463</td>\n",
       "      <td>Active</td>\n",
       "      <td>currency 1</td>\n",
       "      <td>-208</td>\n",
       "      <td>0</td>\n",
       "      <td>1075.0</td>\n",
       "      <td>NaN</td>\n",
       "      <td>NaN</td>\n",
       "      <td>0</td>\n",
       "      <td>225000.0</td>\n",
       "      <td>171342.0</td>\n",
       "      <td>NaN</td>\n",
       "      <td>0.0</td>\n",
       "      <td>Credit card</td>\n",
       "      <td>-20</td>\n",
       "      <td>NaN</td>\n",
       "    </tr>\n",
       "    <tr>\n",
       "      <th>2</th>\n",
       "      <td>215354</td>\n",
       "      <td>5714464</td>\n",
       "      <td>Active</td>\n",
       "      <td>currency 1</td>\n",
       "      <td>-203</td>\n",
       "      <td>0</td>\n",
       "      <td>528.0</td>\n",
       "      <td>NaN</td>\n",
       "      <td>NaN</td>\n",
       "      <td>0</td>\n",
       "      <td>464323.5</td>\n",
       "      <td>NaN</td>\n",
       "      <td>NaN</td>\n",
       "      <td>0.0</td>\n",
       "      <td>Consumer credit</td>\n",
       "      <td>-16</td>\n",
       "      <td>NaN</td>\n",
       "    </tr>\n",
       "    <tr>\n",
       "      <th>3</th>\n",
       "      <td>215354</td>\n",
       "      <td>5714465</td>\n",
       "      <td>Active</td>\n",
       "      <td>currency 1</td>\n",
       "      <td>-203</td>\n",
       "      <td>0</td>\n",
       "      <td>NaN</td>\n",
       "      <td>NaN</td>\n",
       "      <td>NaN</td>\n",
       "      <td>0</td>\n",
       "      <td>90000.0</td>\n",
       "      <td>NaN</td>\n",
       "      <td>NaN</td>\n",
       "      <td>0.0</td>\n",
       "      <td>Credit card</td>\n",
       "      <td>-16</td>\n",
       "      <td>NaN</td>\n",
       "    </tr>\n",
       "    <tr>\n",
       "      <th>4</th>\n",
       "      <td>215354</td>\n",
       "      <td>5714466</td>\n",
       "      <td>Active</td>\n",
       "      <td>currency 1</td>\n",
       "      <td>-629</td>\n",
       "      <td>0</td>\n",
       "      <td>1197.0</td>\n",
       "      <td>NaN</td>\n",
       "      <td>77674.5</td>\n",
       "      <td>0</td>\n",
       "      <td>2700000.0</td>\n",
       "      <td>NaN</td>\n",
       "      <td>NaN</td>\n",
       "      <td>0.0</td>\n",
       "      <td>Consumer credit</td>\n",
       "      <td>-21</td>\n",
       "      <td>NaN</td>\n",
       "    </tr>\n",
       "  </tbody>\n",
       "</table>\n",
       "</div>"
      ],
      "text/plain": [
       "   SK_ID_CURR  SK_ID_BUREAU CREDIT_ACTIVE CREDIT_CURRENCY  DAYS_CREDIT  \\\n",
       "0      215354       5714462        Closed      currency 1         -497   \n",
       "1      215354       5714463        Active      currency 1         -208   \n",
       "2      215354       5714464        Active      currency 1         -203   \n",
       "3      215354       5714465        Active      currency 1         -203   \n",
       "4      215354       5714466        Active      currency 1         -629   \n",
       "\n",
       "   CREDIT_DAY_OVERDUE  DAYS_CREDIT_ENDDATE  DAYS_ENDDATE_FACT  \\\n",
       "0                   0               -153.0             -153.0   \n",
       "1                   0               1075.0                NaN   \n",
       "2                   0                528.0                NaN   \n",
       "3                   0                  NaN                NaN   \n",
       "4                   0               1197.0                NaN   \n",
       "\n",
       "   AMT_CREDIT_MAX_OVERDUE  CNT_CREDIT_PROLONG  AMT_CREDIT_SUM  \\\n",
       "0                     NaN                   0         91323.0   \n",
       "1                     NaN                   0        225000.0   \n",
       "2                     NaN                   0        464323.5   \n",
       "3                     NaN                   0         90000.0   \n",
       "4                 77674.5                   0       2700000.0   \n",
       "\n",
       "   AMT_CREDIT_SUM_DEBT  AMT_CREDIT_SUM_LIMIT  AMT_CREDIT_SUM_OVERDUE  \\\n",
       "0                  0.0                   NaN                     0.0   \n",
       "1             171342.0                   NaN                     0.0   \n",
       "2                  NaN                   NaN                     0.0   \n",
       "3                  NaN                   NaN                     0.0   \n",
       "4                  NaN                   NaN                     0.0   \n",
       "\n",
       "       CREDIT_TYPE  DAYS_CREDIT_UPDATE  AMT_ANNUITY  \n",
       "0  Consumer credit                -131          NaN  \n",
       "1      Credit card                 -20          NaN  \n",
       "2  Consumer credit                 -16          NaN  \n",
       "3      Credit card                 -16          NaN  \n",
       "4  Consumer credit                 -21          NaN  "
      ]
     },
     "execution_count": 16,
     "metadata": {},
     "output_type": "execute_result"
    }
   ],
   "source": [
    "bureau.head()"
   ]
  },
  {
   "cell_type": "code",
   "execution_count": 8,
   "metadata": {},
   "outputs": [],
   "source": [
    "bureau_balance = bureau_balance.reset_index()"
   ]
  },
  {
   "cell_type": "code",
   "execution_count": 9,
   "metadata": {},
   "outputs": [],
   "source": [
    "entities = {\n",
    "    'train' : (train, \"SK_ID_CURR\"),\n",
    "    'bureau' : (bureau, \"SK_ID_BUREAU\"),\n",
    "    'bureau_balance' : (bureau_balance, 'index')\n",
    "}\n",
    "\n",
    "relationships = [\n",
    "    ('train', 'SK_ID_CURR', 'bureau', 'SK_ID_CURR'),\n",
    "    ('bureau', 'SK_ID_BUREAU', 'bureau_balance', 'SK_ID_BUREAU')\n",
    "]"
   ]
  },
  {
   "cell_type": "code",
   "execution_count": 10,
   "metadata": {},
   "outputs": [],
   "source": [
    "feature_matrix, feature_defs = ft.dfs(\n",
    "    entities=entities,\n",
    "    relationships = relationships,\n",
    "    target_entity=\"train\",\n",
    "    agg_primitives=[\"mean\", \"sum\", \"mode\"])"
   ]
  },
  {
   "cell_type": "code",
   "execution_count": 11,
   "metadata": {},
   "outputs": [
    {
     "data": {
      "text/plain": [
       "10000"
      ]
     },
     "execution_count": 11,
     "metadata": {},
     "output_type": "execute_result"
    }
   ],
   "source": [
    "len(feature_matrix)"
   ]
  },
  {
   "cell_type": "code",
   "execution_count": 12,
   "metadata": {},
   "outputs": [
    {
     "data": {
      "text/plain": [
       "[<Feature: TARGET>,\n",
       " <Feature: NAME_CONTRACT_TYPE>,\n",
       " <Feature: CODE_GENDER>,\n",
       " <Feature: FLAG_OWN_CAR>,\n",
       " <Feature: FLAG_OWN_REALTY>,\n",
       " <Feature: CNT_CHILDREN>,\n",
       " <Feature: AMT_INCOME_TOTAL>,\n",
       " <Feature: AMT_CREDIT>,\n",
       " <Feature: AMT_ANNUITY>,\n",
       " <Feature: AMT_GOODS_PRICE>,\n",
       " <Feature: NAME_TYPE_SUITE>,\n",
       " <Feature: NAME_INCOME_TYPE>,\n",
       " <Feature: NAME_EDUCATION_TYPE>,\n",
       " <Feature: NAME_FAMILY_STATUS>,\n",
       " <Feature: NAME_HOUSING_TYPE>,\n",
       " <Feature: REGION_POPULATION_RELATIVE>,\n",
       " <Feature: DAYS_BIRTH>,\n",
       " <Feature: DAYS_EMPLOYED>,\n",
       " <Feature: DAYS_REGISTRATION>,\n",
       " <Feature: DAYS_ID_PUBLISH>,\n",
       " <Feature: OWN_CAR_AGE>,\n",
       " <Feature: FLAG_MOBIL>,\n",
       " <Feature: FLAG_EMP_PHONE>,\n",
       " <Feature: FLAG_WORK_PHONE>,\n",
       " <Feature: FLAG_CONT_MOBILE>,\n",
       " <Feature: FLAG_PHONE>,\n",
       " <Feature: FLAG_EMAIL>,\n",
       " <Feature: OCCUPATION_TYPE>,\n",
       " <Feature: CNT_FAM_MEMBERS>,\n",
       " <Feature: REGION_RATING_CLIENT>,\n",
       " <Feature: REGION_RATING_CLIENT_W_CITY>,\n",
       " <Feature: WEEKDAY_APPR_PROCESS_START>,\n",
       " <Feature: HOUR_APPR_PROCESS_START>,\n",
       " <Feature: REG_REGION_NOT_LIVE_REGION>,\n",
       " <Feature: REG_REGION_NOT_WORK_REGION>,\n",
       " <Feature: LIVE_REGION_NOT_WORK_REGION>,\n",
       " <Feature: REG_CITY_NOT_LIVE_CITY>,\n",
       " <Feature: REG_CITY_NOT_WORK_CITY>,\n",
       " <Feature: LIVE_CITY_NOT_WORK_CITY>,\n",
       " <Feature: ORGANIZATION_TYPE>,\n",
       " <Feature: EXT_SOURCE_1>,\n",
       " <Feature: EXT_SOURCE_2>,\n",
       " <Feature: EXT_SOURCE_3>,\n",
       " <Feature: APARTMENTS_AVG>,\n",
       " <Feature: BASEMENTAREA_AVG>,\n",
       " <Feature: YEARS_BEGINEXPLUATATION_AVG>,\n",
       " <Feature: YEARS_BUILD_AVG>,\n",
       " <Feature: COMMONAREA_AVG>,\n",
       " <Feature: ELEVATORS_AVG>,\n",
       " <Feature: ENTRANCES_AVG>,\n",
       " <Feature: FLOORSMAX_AVG>,\n",
       " <Feature: FLOORSMIN_AVG>,\n",
       " <Feature: LANDAREA_AVG>,\n",
       " <Feature: LIVINGAPARTMENTS_AVG>,\n",
       " <Feature: LIVINGAREA_AVG>,\n",
       " <Feature: NONLIVINGAPARTMENTS_AVG>,\n",
       " <Feature: NONLIVINGAREA_AVG>,\n",
       " <Feature: APARTMENTS_MODE>,\n",
       " <Feature: BASEMENTAREA_MODE>,\n",
       " <Feature: YEARS_BEGINEXPLUATATION_MODE>,\n",
       " <Feature: YEARS_BUILD_MODE>,\n",
       " <Feature: COMMONAREA_MODE>,\n",
       " <Feature: ELEVATORS_MODE>,\n",
       " <Feature: ENTRANCES_MODE>,\n",
       " <Feature: FLOORSMAX_MODE>,\n",
       " <Feature: FLOORSMIN_MODE>,\n",
       " <Feature: LANDAREA_MODE>,\n",
       " <Feature: LIVINGAPARTMENTS_MODE>,\n",
       " <Feature: LIVINGAREA_MODE>,\n",
       " <Feature: NONLIVINGAPARTMENTS_MODE>,\n",
       " <Feature: NONLIVINGAREA_MODE>,\n",
       " <Feature: APARTMENTS_MEDI>,\n",
       " <Feature: BASEMENTAREA_MEDI>,\n",
       " <Feature: YEARS_BEGINEXPLUATATION_MEDI>,\n",
       " <Feature: YEARS_BUILD_MEDI>,\n",
       " <Feature: COMMONAREA_MEDI>,\n",
       " <Feature: ELEVATORS_MEDI>,\n",
       " <Feature: ENTRANCES_MEDI>,\n",
       " <Feature: FLOORSMAX_MEDI>,\n",
       " <Feature: FLOORSMIN_MEDI>,\n",
       " <Feature: LANDAREA_MEDI>,\n",
       " <Feature: LIVINGAPARTMENTS_MEDI>,\n",
       " <Feature: LIVINGAREA_MEDI>,\n",
       " <Feature: NONLIVINGAPARTMENTS_MEDI>,\n",
       " <Feature: NONLIVINGAREA_MEDI>,\n",
       " <Feature: FONDKAPREMONT_MODE>,\n",
       " <Feature: HOUSETYPE_MODE>,\n",
       " <Feature: TOTALAREA_MODE>,\n",
       " <Feature: WALLSMATERIAL_MODE>,\n",
       " <Feature: EMERGENCYSTATE_MODE>,\n",
       " <Feature: OBS_30_CNT_SOCIAL_CIRCLE>,\n",
       " <Feature: DEF_30_CNT_SOCIAL_CIRCLE>,\n",
       " <Feature: OBS_60_CNT_SOCIAL_CIRCLE>,\n",
       " <Feature: DEF_60_CNT_SOCIAL_CIRCLE>,\n",
       " <Feature: DAYS_LAST_PHONE_CHANGE>,\n",
       " <Feature: FLAG_DOCUMENT_2>,\n",
       " <Feature: FLAG_DOCUMENT_3>,\n",
       " <Feature: FLAG_DOCUMENT_4>,\n",
       " <Feature: FLAG_DOCUMENT_5>,\n",
       " <Feature: FLAG_DOCUMENT_6>,\n",
       " <Feature: FLAG_DOCUMENT_7>,\n",
       " <Feature: FLAG_DOCUMENT_8>,\n",
       " <Feature: FLAG_DOCUMENT_9>,\n",
       " <Feature: FLAG_DOCUMENT_10>,\n",
       " <Feature: FLAG_DOCUMENT_11>,\n",
       " <Feature: FLAG_DOCUMENT_12>,\n",
       " <Feature: FLAG_DOCUMENT_13>,\n",
       " <Feature: FLAG_DOCUMENT_14>,\n",
       " <Feature: FLAG_DOCUMENT_15>,\n",
       " <Feature: FLAG_DOCUMENT_16>,\n",
       " <Feature: FLAG_DOCUMENT_17>,\n",
       " <Feature: FLAG_DOCUMENT_18>,\n",
       " <Feature: FLAG_DOCUMENT_19>,\n",
       " <Feature: FLAG_DOCUMENT_20>,\n",
       " <Feature: FLAG_DOCUMENT_21>,\n",
       " <Feature: AMT_REQ_CREDIT_BUREAU_HOUR>,\n",
       " <Feature: AMT_REQ_CREDIT_BUREAU_DAY>,\n",
       " <Feature: AMT_REQ_CREDIT_BUREAU_WEEK>,\n",
       " <Feature: AMT_REQ_CREDIT_BUREAU_MON>,\n",
       " <Feature: AMT_REQ_CREDIT_BUREAU_QRT>,\n",
       " <Feature: AMT_REQ_CREDIT_BUREAU_YEAR>,\n",
       " <Feature: MEAN(bureau.DAYS_CREDIT)>,\n",
       " <Feature: MEAN(bureau.CREDIT_DAY_OVERDUE)>,\n",
       " <Feature: MEAN(bureau.DAYS_CREDIT_ENDDATE)>,\n",
       " <Feature: MEAN(bureau.DAYS_ENDDATE_FACT)>,\n",
       " <Feature: MEAN(bureau.AMT_CREDIT_MAX_OVERDUE)>,\n",
       " <Feature: MEAN(bureau.CNT_CREDIT_PROLONG)>,\n",
       " <Feature: MEAN(bureau.AMT_CREDIT_SUM)>,\n",
       " <Feature: MEAN(bureau.AMT_CREDIT_SUM_DEBT)>,\n",
       " <Feature: MEAN(bureau.AMT_CREDIT_SUM_LIMIT)>,\n",
       " <Feature: MEAN(bureau.AMT_CREDIT_SUM_OVERDUE)>,\n",
       " <Feature: MEAN(bureau.DAYS_CREDIT_UPDATE)>,\n",
       " <Feature: MEAN(bureau.AMT_ANNUITY)>,\n",
       " <Feature: SUM(bureau.DAYS_CREDIT)>,\n",
       " <Feature: SUM(bureau.CREDIT_DAY_OVERDUE)>,\n",
       " <Feature: SUM(bureau.DAYS_CREDIT_ENDDATE)>,\n",
       " <Feature: SUM(bureau.DAYS_ENDDATE_FACT)>,\n",
       " <Feature: SUM(bureau.AMT_CREDIT_MAX_OVERDUE)>,\n",
       " <Feature: SUM(bureau.CNT_CREDIT_PROLONG)>,\n",
       " <Feature: SUM(bureau.AMT_CREDIT_SUM)>,\n",
       " <Feature: SUM(bureau.AMT_CREDIT_SUM_DEBT)>,\n",
       " <Feature: SUM(bureau.AMT_CREDIT_SUM_LIMIT)>,\n",
       " <Feature: SUM(bureau.AMT_CREDIT_SUM_OVERDUE)>,\n",
       " <Feature: SUM(bureau.DAYS_CREDIT_UPDATE)>,\n",
       " <Feature: SUM(bureau.AMT_ANNUITY)>,\n",
       " <Feature: MODE(bureau.CREDIT_ACTIVE)>,\n",
       " <Feature: MODE(bureau.CREDIT_CURRENCY)>,\n",
       " <Feature: MODE(bureau.CREDIT_TYPE)>,\n",
       " <Feature: MEAN(bureau_balance.MONTHS_BALANCE)>,\n",
       " <Feature: SUM(bureau_balance.MONTHS_BALANCE)>,\n",
       " <Feature: MODE(bureau_balance.STATUS)>,\n",
       " <Feature: MEAN(bureau.MEAN(bureau_balance.MONTHS_BALANCE))>,\n",
       " <Feature: MEAN(bureau.SUM(bureau_balance.MONTHS_BALANCE))>,\n",
       " <Feature: SUM(bureau.MEAN(bureau_balance.MONTHS_BALANCE))>,\n",
       " <Feature: MODE(bureau.MODE(bureau_balance.STATUS))>]"
      ]
     },
     "execution_count": 12,
     "metadata": {},
     "output_type": "execute_result"
    }
   ],
   "source": [
    "feature_defs"
   ]
  },
  {
   "cell_type": "code",
   "execution_count": null,
   "metadata": {},
   "outputs": [],
   "source": []
  }
 ],
 "metadata": {
  "kernelspec": {
   "display_name": "Python 3",
   "language": "python",
   "name": "python3"
  },
  "language_info": {
   "codemirror_mode": {
    "name": "ipython",
    "version": 3
   },
   "file_extension": ".py",
   "mimetype": "text/x-python",
   "name": "python",
   "nbconvert_exporter": "python",
   "pygments_lexer": "ipython3",
   "version": "3.6.6"
  }
 },
 "nbformat": 4,
 "nbformat_minor": 2
}
